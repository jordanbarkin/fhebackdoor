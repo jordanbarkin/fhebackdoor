{
 "cells": [
  {
   "cell_type": "code",
   "execution_count": 59,
   "id": "27d6c647",
   "metadata": {},
   "outputs": [],
   "source": [
    "# Computational imports\n",
    "import numpy as np\n",
    "import math\n",
    "from scipy import optimize as opt\n",
    "# from numba import njit\n",
    "\n",
    "# Graphics imports\n",
    "import matplotlib.pyplot as plt\n",
    "from matplotlib import cm # for 3d poltting\n",
    "from mpl_toolkits.mplot3d.axes3d import Axes3D # for 3d poltting"
   ]
  },
  {
   "cell_type": "code",
   "execution_count": 76,
   "id": "9b3bbbbc",
   "metadata": {},
   "outputs": [],
   "source": [
    "def fa(x, a, c):\n",
    "    exponent = (-2*(x-a))/c\n",
    "    denom = 1 + (math.e**(exponent))\n",
    "    return 1/denom\n",
    "\n",
    "def f(x):\n",
    "    return fa(x,1,0.005)\n",
    "\n",
    "# \\frac{1}{1+e^{-\\frac{2\\left(x-b\\right)}{-c}}}\n",
    "\n",
    "\n",
    "def scale_up(z,x_min,x_max):\n",
    "    \"\"\"\n",
    "    Scales up z \\in [-1,1] to x \\in [x_min,x_max]\n",
    "    where z = (2 * (x - x_min) / (x_max - x_min)) - 1\n",
    "    \"\"\"\n",
    "    \n",
    "    return x_min + (z + 1) * (x_max - x_min) / 2\n",
    "\n",
    "\n",
    "def scale_down(x,x_min,x_max):\n",
    "    \"\"\"\n",
    "    Scales down x \\in [x_min,x_max] to z \\in [-1,1]\n",
    "    where z = f(x) = (2 * (x - x_min) / (x_max - x_min)) - 1\n",
    "    \"\"\"    \n",
    "    \n",
    "    return (2 * (x - x_min) / (x_max - x_min)) - 1"
   ]
  },
  {
   "cell_type": "code",
   "execution_count": 96,
   "id": "e2dc66eb",
   "metadata": {},
   "outputs": [],
   "source": [
    "x_min = -10\n",
    "x_max = 20\n",
    "x_grid = np.linspace(x_min,x_max,100)"
   ]
  },
  {
   "cell_type": "code",
   "execution_count": 97,
   "id": "f55daf89",
   "metadata": {},
   "outputs": [
    {
     "name": "stderr",
     "output_type": "stream",
     "text": [
      "<ipython-input-76-dc5249b907c0>:3: RuntimeWarning: overflow encountered in power\n",
      "  denom = 1 + (math.e**(exponent))\n"
     ]
    },
    {
     "data": {
      "image/png": "[encoded data removed]",
      "text/plain": [
       "<Figure size 432x288 with 1 Axes>"
      ]
     },
     "metadata": {
      "needs_background": "light"
     },
     "output_type": "display_data"
    }
   ],
   "source": [
    "plt.figure()\n",
    "plt.plot(x_grid,f(x_grid))\n",
    "plt.show()\n",
    "plt.close()"
   ]
  },
  {
   "cell_type": "code",
   "execution_count": 104,
   "id": "8cf55229",
   "metadata": {},
   "outputs": [],
   "source": [
    "n = 10 # order (degree, highest power) of the approximating polynomial\n",
    "m = 30 # number of Chebyshev nodes (having m > n doesn't matter for the approximation it seems)\n",
    "\n",
    "# generate chebyshev nodes (the roots of Chebyshev polynomials, a Chebyshev polynomial of degree m-1 has m roots)\n",
    "r_k = -np.cos((2*np.arange(1,m+1) - 1) * np.pi / (2*m))\n",
    "\n",
    "# or using numpy's routine\n",
    "#r_k = np.polynomial.chebyshev.chebpts1(m)"
   ]
  },
  {
   "cell_type": "code",
   "execution_count": 105,
   "id": "6c7a0821",
   "metadata": {},
   "outputs": [],
   "source": [
    "\n",
    "# builds the Vandermonde matrix of Chebyshev polynomial expansion at the r_k nodes\n",
    "# using the recurrence relation\n",
    "T = np.zeros((m,n+1))\n",
    "\n",
    "T[:,0] = np.ones((m,1)).T\n",
    "\n",
    "T[:,1] = r_k.T\n",
    "\n",
    "for i in range(1,n):\n",
    "    T[:,i+1] = 2 * r_k * T[:,i] - T[:,i-1]\n",
    "\n",
    "# or numpy's routine\n",
    "#T = np.polynomial.chebyshev.chebvander(r_k,n) "
   ]
  },
  {
   "cell_type": "code",
   "execution_count": 106,
   "id": "e2c0b5c5",
   "metadata": {},
   "outputs": [
    {
     "name": "stderr",
     "output_type": "stream",
     "text": [
      "<ipython-input-76-dc5249b907c0>:3: RuntimeWarning: overflow encountered in power\n",
      "  denom = 1 + (math.e**(exponent))\n"
     ]
    },
    {
     "data": {
      "text/plain": [
       "array([ 6.00000000e-01,  6.05738123e-01, -1.87440254e-01, -1.25246324e-01,\n",
       "        1.52477640e-01, -1.52655666e-16, -1.02589451e-01,  5.46724163e-02,\n",
       "        4.81708301e-02, -6.98293993e-02,  6.93889390e-17])"
      ]
     },
     "execution_count": 106,
     "metadata": {},
     "output_type": "execute_result"
    }
   ],
   "source": [
    "# calculate the Chebyshev coefficients\n",
    "x_k = scale_up(r_k,x_min,x_max)\n",
    "y_k = f(x_k)\n",
    "α = np.linalg.inv(T.T @ T) @ T.T @ y_k\n",
    "α"
   ]
  },
  {
   "cell_type": "code",
   "execution_count": 107,
   "id": "e83dbf57",
   "metadata": {},
   "outputs": [
    {
     "data": {
      "text/plain": [
       "array([ 3.91437846e-02, -9.06456802e-04, -4.19367677e-02, -4.19367677e-02,\n",
       "        3.47819367e-03,  5.27676412e-02,  5.27676412e-02, -1.04732634e-02,\n",
       "       -8.67120833e-02, -8.67120833e-02,  5.70422612e-02,  3.37995346e-01,\n",
       "        6.71328680e-01,  9.42873651e-01,  1.07713368e+00,  1.07713368e+00,\n",
       "        1.01074525e+00,  9.57634174e-01,  9.57634174e-01,  9.95991837e-01,\n",
       "        1.02992763e+00,  1.02992763e+00,  1.00185964e+00,  9.75766095e-01,\n",
       "        9.75766095e-01,  9.99130900e-01,  1.02158753e+00,  1.02158753e+00,\n",
       "        1.00025799e+00,  9.79196370e-01])"
      ]
     },
     "execution_count": 107,
     "metadata": {},
     "output_type": "execute_result"
    }
   ],
   "source": [
    "# evaluate the Chebyshev series with coefficients α_k at the points r_k\n",
    "T @ α\n",
    "\n",
    "# or with numpy's routine\n",
    "#np.polynomial.chebyshev.chebval(r_k,α)"
   ]
  },
  {
   "cell_type": "code",
   "execution_count": 108,
   "id": "38e7d21f",
   "metadata": {},
   "outputs": [],
   "source": [
    "T = np.zeros((len(x_grid),n+1))\n",
    "\n",
    "T[:,0] = np.ones((len(x_grid),1)).T\n",
    "\n",
    "z_grid = scale_down(x_grid,x_min,x_max)\n",
    "\n",
    "T[:,1] = z_grid.T\n",
    "\n",
    "for i in range(1,n):\n",
    "    T[:,i+1] = 2 * z_grid * T[:,i] - T[:,i-1]\n",
    "\n",
    "# compute approximation\n",
    "Tf = T @ α"
   ]
  },
  {
   "cell_type": "code",
   "execution_count": 109,
   "id": "700a62dd",
   "metadata": {},
   "outputs": [
    {
     "name": "stderr",
     "output_type": "stream",
     "text": [
      "<ipython-input-76-dc5249b907c0>:3: RuntimeWarning: overflow encountered in power\n",
      "  denom = 1 + (math.e**(exponent))\n"
     ]
    },
    {
     "data": {
      "image/png": "[encoded data removed]",
      "text/plain": [
       "<Figure size 432x288 with 1 Axes>"
      ]
     },
     "metadata": {
      "needs_background": "light"
     },
     "output_type": "display_data"
    }
   ],
   "source": [
    "plt.figure()\n",
    "plt.plot(x_grid,f(x_grid))\n",
    "plt.plot(x_grid, Tf)\n",
    "plt.show()\n",
    "plt.close()"
   ]
  },
  {
   "cell_type": "code",
   "execution_count": null,
   "id": "6c638c0f",
   "metadata": {},
   "outputs": [],
   "source": []
  }
 ],
 "metadata": {
  "kernelspec": {
   "display_name": "Python 3",
   "language": "python",
   "name": "python3"
  },
  "language_info": {
   "codemirror_mode": {
    "name": "ipython",
    "version": 3
   },
   "file_extension": ".py",
   "mimetype": "text/x-python",
   "name": "python",
   "nbconvert_exporter": "python",
   "pygments_lexer": "ipython3",
   "version": "3.9.13"
  }
 },
 "nbformat": 4,
 "nbformat_minor": 5
}
