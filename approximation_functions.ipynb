{
 "cells": [
  {
   "cell_type": "markdown",
   "metadata": {
    "id": "tVOeZfbX_D8z"
   },
   "source": [
    "This is the final code for the polynomial approximations"
   ]
  },
  {
   "cell_type": "code",
   "execution_count": 156,
   "metadata": {
    "id": "M2QpPcocxEID"
   },
   "outputs": [],
   "source": [
    "import torch\n",
    "from mpmath import mp\n",
    "import numpy as np\n",
    "import math\n",
    "from scipy import optimize as opt\n",
    "import matplotlib.pyplot as plt\n",
    "from matplotlib import cm # for 3d poltting\n",
    "from mpl_toolkits.mplot3d.axes3d import Axes3D # for 3d poltting\n",
    "from sympy import symbols, cos, pi\n",
    "from sympy.core.numbers import One\n",
    "from sympy.utilities.lambdify import lambdify\n",
    "from math import sin, pi"
   ]
  },
  {
   "cell_type": "code",
   "execution_count": 157,
   "metadata": {},
   "outputs": [],
   "source": [
    "def remez(func, n_degree:int, lower:float=-1, upper:float=1, max_iter:int = 10):\n",
    "    \"\"\"\n",
    "    :param func: a function (or lambda) f: X -> R\n",
    "    :param n_degree: the degree of the polynomial to approximate the function f\n",
    "    :param lower: lower range of the approximation\n",
    "    :param upper: upper range of the approximation\n",
    "    :return: the polynomial coefficients, and an approximate maximum error associated with this approximation\n",
    "    \"\"\"\n",
    "    def bisection_search(f, low:float, high:float):\n",
    "        \"\"\"\n",
    "        A root finding method that does not rely on derivatives\n",
    "        :param f: a function f: X -> R\n",
    "        :param low: the lower bracket\n",
    "        :param high: the upper limit bracket\n",
    "        :return: the location of the root, e.g. f(mid) ~ 0\n",
    "        \"\"\"\n",
    "        # flip high and low if out of order\n",
    "        if f(high) < f(low):\n",
    "            low, high = high, low\n",
    "\n",
    "        # find mid point\n",
    "        mid = .5 * (low + high)\n",
    "\n",
    "        while True:\n",
    "            # bracket up\n",
    "            if f(mid) < 0:\n",
    "                low = mid\n",
    "            # braket down\n",
    "            else:\n",
    "                high = mid\n",
    "\n",
    "            # update mid point\n",
    "            mid = .5 * (high + low)\n",
    "\n",
    "            # break if condition met\n",
    "            if abs(high - low) < 10 ** (-(mp.dps / 2)):\n",
    "                break\n",
    "\n",
    "        return mid\n",
    "\n",
    "    def chev_points(n:int, lower:float = -1, upper:float = 1):\n",
    "        \"\"\"\n",
    "        Generates a set of chebychev points spaced in the range [lower, upper]\n",
    "        :param n: number of points\n",
    "        :param lower: lower limit\n",
    "        :param upper: upper limit\n",
    "        :return: a list of multipressison chebychev points that are in the range [lower, upper]\n",
    "        \"\"\"\n",
    "        index = np.arange(1, n+1)\n",
    "        range_ = abs(upper - lower)\n",
    "        return [(.5*(mp.cos((2*i-1)/(2*n)*mp.pi)+1))*range_ + lower for i in index]\n",
    "\n",
    "    def concave_max(f, low:float, high:float):\n",
    "        \"\"\"\n",
    "        Forms a lambda for the approximate derivative and finds the root\n",
    "        :param f: a function f: X -> R\n",
    "        :param low: the lower bracket\n",
    "        :param high: the upper limit bracket\n",
    "        :return: the location of the root f'(mid) ~ 0\n",
    "        \"\"\"\n",
    "        # create an approximate derivative expression\n",
    "        scale = high - low\n",
    "\n",
    "        h = mp.mpf('0.' + ''.join(['0' for i in range(int(mp.dps / 1.5))]) + '1') * scale\n",
    "        df = lambda x: (f(x + h) - f(x - h)) / (2.0 * h)\n",
    "\n",
    "        return bisection_search(df, low, high)\n",
    "\n",
    "    # initialize the node points\n",
    "    x_points = chev_points(n_degree + 2, lower, upper)\n",
    "\n",
    "    A = mp.matrix(n_degree + 2)\n",
    "    coeffs = np.zeros(n_degree + 2)\n",
    "\n",
    "    # place in the E column\n",
    "    mean_error = float('inf')\n",
    "\n",
    "    for i in range(n_degree + 2):\n",
    "        A[i, n_degree + 1] = (-1) ** (i + 1)\n",
    "\n",
    "    for i in range(max_iter):\n",
    "\n",
    "        # build the system\n",
    "        vander = np.polynomial.chebyshev.chebvander(x_points, n_degree)\n",
    "\n",
    "        for i in range(n_degree + 2):\n",
    "            for j in range(n_degree + 1):\n",
    "                A[i, j] = vander[i, j]\n",
    "\n",
    "        b = mp.matrix([func(x) for x in x_points])\n",
    "        l = mp.lu_solve(A, b)\n",
    "\n",
    "        coeffs = l[:-1]\n",
    "\n",
    "        # build the residual expression\n",
    "        r_i = lambda x: (func(x) - np.polynomial.chebyshev.chebval(x, coeffs))\n",
    "\n",
    "        interval_list = list(zip(x_points, x_points[1:]))\n",
    "        #         interval_list = [[x_points[i], x_points[i+1]] for i in range(len(x_points)-1)]\n",
    "\n",
    "        intervals = [upper]\n",
    "        intervals.extend([bisection_search(r_i, *i) for i in interval_list])\n",
    "        intervals.append(lower)\n",
    "\n",
    "        extermum_interval = [[intervals[i], intervals[i + 1]] for i in range(len(intervals) - 1)]\n",
    "\n",
    "        extremums = [concave_max(r_i, *i) for i in extermum_interval]\n",
    "\n",
    "        extremums[0] = mp.mpf(upper)\n",
    "        extremums[-1] = mp.mpf(lower)\n",
    "\n",
    "        errors = [abs(r_i(i)) for i in extremums]\n",
    "        mean_error = np.mean(errors)\n",
    "\n",
    "        x_points = extremums\n",
    "\n",
    "    return [float(i) for i in np.polynomial.chebyshev.cheb2poly(coeffs)], float(mean_error)\n",
    "\n",
    "    "
   ]
  },
  {
   "cell_type": "code",
   "execution_count": 188,
   "metadata": {},
   "outputs": [],
   "source": [
    "class HatMinMaxApproximator:\n",
    "    def __init__(self, a,b,c,deg,left,right):\n",
    "        def bump(x):\n",
    "            return BasicSigmoids.square(x,a,b,c)\n",
    "        self.poly_coeffs, self.max_error = remez(bump, deg, left, right, 10)\n",
    "        self.evaluator = lambda x : np.polyval(self.poly_coeffs[::-1], x)\n",
    "    \n",
    "    def get_max_error():\n",
    "        return self.max_error\n",
    "    \n",
    "    def get_poly_coeffs():\n",
    "        return self.poly_coeffs\n",
    "    \n",
    "    def __call__(x):\n",
    "        return self.evaluator(x)"
   ]
  },
  {
   "cell_type": "code",
   "execution_count": 202,
   "metadata": {
    "id": "b_v9M05mEEga"
   },
   "outputs": [],
   "source": [
    "# CHEBYSHEV HELPER FUNCTIONS\n",
    "# might be incoherent with Emin's minimax helper fnuctions\n",
    "\n",
    "class BasicSigmoids:\n",
    "    @staticmethod\n",
    "    def sigmoid(x, a, c):\n",
    "        exponent = (-(x-a))/c\n",
    "        denom = 1 + (math.e**(exponent))\n",
    "        return 1/denom\n",
    "    @staticmethod\n",
    "    def square(x,a,b,c):\n",
    "        s1=BasicSigmoids.sigmoid(x, a, c)\n",
    "        s2=BasicSigmoids.sigmoid(x, b, -c)\n",
    "        return s1*s2\n",
    "    @staticmethod\n",
    "    def scale_up(z,x_min,x_max):\n",
    "        \"\"\"\n",
    "        Scales up z \\in [-1,1] to x \\in [x_min,x_max]\n",
    "        where z = (2 * (x - x_min) / (x_max - x_min)) - 1\n",
    "        \"\"\"\n",
    "\n",
    "        return x_min + (z + 1) * (x_max - x_min) / 2\n",
    "    @staticmethod\n",
    "    def scale_down(x,x_min,x_max):\n",
    "        \"\"\"\n",
    "        Scales down x \\in [x_min,x_max] to z \\in [-1,1]\n",
    "        where z = f(x) = (2 * (x - x_min) / (x_max - x_min)) - 1\n",
    "        \"\"\"    \n",
    "\n",
    "        return (2 * (x - x_min) / (x_max - x_min)) - 1\n",
    "\n",
    "class ChebyshevApproximator:\n",
    "    def __init__(self, function, intr, deg, prec = 15):\n",
    "        n = deg + 1\n",
    "\n",
    "        x, u = symbols('x u')\n",
    "\n",
    "        a, b = intr\n",
    "        x_to_u = (2 * x - a - b) / (b - a)\n",
    "        u_to_x = (b - a) / 2 * u + (a + b) / 2\n",
    "        chebyshev_nodes = cos((symbols('i') + 0.5) / n * pi)\n",
    "\n",
    "        result_u = [chebyshev_nodes.evalf(prec, subs={'i': i}) for i in range(n)]\n",
    "        result_x = [u_to_x.evalf(prec, subs={u: i}) for i in result_u]\n",
    "        result_y = [function(i) for i in result_x]\n",
    "\n",
    "        t = [One(), u]\n",
    "\n",
    "        for _ in range(n - 2):\n",
    "            t.append(2 * u * t[-1] - t[-2])\n",
    "\n",
    "        c = [sum(result_y) / n]\n",
    "\n",
    "        for index in range(1, n):\n",
    "            c.append(2 * sum(t[index].evalf(prec, subs={u: i}) * j for i, j in zip(result_u, result_y)) / n)\n",
    "\n",
    "        y = 1 * c[0]\n",
    "\n",
    "        for i in range(1, n):\n",
    "            y += t[i] * c[i]\n",
    "\n",
    "        y = y.subs({u: x_to_u}).simplify()\n",
    "\n",
    "        self.y = y        \n",
    "        x, u = symbols('x u')    \n",
    "        self.f = lambdify(x, self.y, \"numpy\")\n",
    "        f.formula = y\n",
    "    \n",
    "    def _get_y(self):\n",
    "        return self.y\n",
    "    \n",
    "    def __call__(self, x):\n",
    "        return self.f(x)\n",
    "    \n",
    "    def get_coeffs(self):\n",
    "        def cheby_to_coeff_list(s): \n",
    "            s_coeffs =  [((t.args[1].args[1] if (len(t.args[1].args) != 0)else 1), t.args[0]) for t in s.args[1:]] + [(0, s.args[0])]\n",
    "            return [x[1] for x in sorted(s_coeffs)]\n",
    "\n",
    "        return cheby_to_coeff_list(self.y)\n",
    "\n",
    "class HatChebyshevApproximator(ChebyshevApproximator):\n",
    "    def __init__(self,a,b,c,deg,left,right):\n",
    "        def hat(x):\n",
    "            return BasicSigmoids.square(x,a,b,c)\n",
    "        \n",
    "        super().__init__(hat, (left,right),deg)\n"
   ]
  },
  {
   "cell_type": "code",
   "execution_count": 194,
   "metadata": {
    "id": "lP2NyPEUx1CA"
   },
   "outputs": [],
   "source": [
    "#MINMAX FUNCTIONS ^^^ make sure you run helper functions above\n",
    "#For minmax_polynomials, the function returns an array of the cofficients\n",
    "#Notice: these are ordered from the LOWEST degree (i.e., x^0) to the HIGHEST degree (i.e., x^{deg})\n",
    "\n",
    "# def minmax_polynomials(a,b,c,deg,left,right):\n",
    "#   #INPUTS:\n",
    "#   #a: left sigmoid cutoff; b: right sigmoid cutoff; c: steepnesss parameter; deg: degree of approximating polynomial; (left,right): range of the approximation\n",
    "#   #OUTPUTS:\n",
    "#   #poly_coeffs: a list of coefficents for the minimax polynomial of degree deg for the sq bump with the parameters a,b,c\n",
    "  \n",
    "#   def bump(x):\n",
    "#     return BasicSigmoids.square(x,a,b,c)\n",
    "#   poly_coeffs, max_error = remez(bump, deg, left, right, 10)\n",
    "\n",
    "#   return poly_coeffs\n",
    "\n",
    "# def minmax_function(a,b,c,deg,left,right):\n",
    "#   #INPUTS:\n",
    "#   #a: left sigmoid cutoff; b: right sigmoid cutoff; c: steepnesss parameter; deg: degree of approximating polynomial; (left,right): range of the approximation\n",
    "#   #OUTPUTS:\n",
    "#   #minmax_approximation: the minmax approximation, as a function. DONT USE IT OUTSIDE [left, right]\n",
    "  \n",
    "#   poly_coeffs=minmax_polynomials(a,b,c,deg,left,right)\n",
    "\n",
    "#   def minmax_approximation(x):\n",
    "#     y_approx = np.polyval(poly_coeffs[::-1], x)\n",
    "#     return y_approx\n",
    "  \n",
    "#   return minmax_approximation"
   ]
  },
  {
   "cell_type": "code",
   "execution_count": null,
   "metadata": {
    "id": "K5nY-FyY1wv-"
   },
   "outputs": [],
   "source": []
  },
  {
   "cell_type": "code",
   "execution_count": 195,
   "metadata": {
    "colab": {
     "base_uri": "https://localhost:8080/"
    },
    "id": "ES1Jld1hKpQ8",
    "outputId": "a44f0057-0ed4-4be3-c97c-8a27a6421053"
   },
   "outputs": [
    {
     "data": {
      "text/plain": [
       "tensor([-0.4781,  0.7449,  0.8264,  0.5003, -0.4781])"
      ]
     },
     "execution_count": 195,
     "metadata": {},
     "output_type": "execute_result"
    }
   ],
   "source": [
    "g = minmax_function(-1,1,0.005,3,-2,2)\n",
    "torch.Tensor(g(torch.Tensor([-2, .5, 0, 1, 2])))"
   ]
  },
  {
   "cell_type": "code",
   "execution_count": 216,
   "metadata": {
    "colab": {
     "base_uri": "https://localhost:8080/"
    },
    "id": "wLax96eJNRMV",
    "outputId": "c70bfd10-2e11-4b2d-b2c2-a391bc022ea3"
   },
   "outputs": [],
   "source": [
    "example = HatChebyshevApproximator(-1,1,0.005,10,-2,2)"
   ]
  },
  {
   "cell_type": "code",
   "execution_count": 217,
   "metadata": {
    "colab": {
     "base_uri": "https://localhost:8080/",
     "height": 58
    },
    "id": "S5zrGNThRFpK",
    "outputId": "88b3e01a-6700-4810-e98f-9de1a70ab4cf"
   },
   "outputs": [
    {
     "data": {
      "text/plain": [
       "tensor([0.0986, 0.1647, 1.0000, 0.1647, 0.0986])"
      ]
     },
     "execution_count": 217,
     "metadata": {},
     "output_type": "execute_result"
    }
   ],
   "source": [
    "example(torch.Tensor([-2,-1,0,1, 2]))"
   ]
  },
  {
   "cell_type": "code",
   "execution_count": 218,
   "metadata": {
    "colab": {
     "base_uri": "https://localhost:8080/"
    },
    "id": "Rz8nB30KSOXv",
    "outputId": "3ecddfbd-086a-48a8-c900-ea98ee31672e"
   },
   "outputs": [
    {
     "data": {
      "text/plain": [
       "[1.00000000000000,\n",
       " 2.34499751567888e-16,\n",
       " 1.04418460978309,\n",
       " -8.71591608768755e-17,\n",
       " -4.18369718533247,\n",
       " -1.22285398222244e-16,\n",
       " 3.08426407359995,\n",
       " 6.84136323366963e-17,\n",
       " -0.863598136334388,\n",
       " -9.01616520405319e-18,\n",
       " 0.0835441636999943]"
      ]
     },
     "execution_count": 218,
     "metadata": {},
     "output_type": "execute_result"
    }
   ],
   "source": [
    "example.get_coeffs()"
   ]
  },
  {
   "cell_type": "code",
   "execution_count": 166,
   "metadata": {
    "colab": {
     "base_uri": "https://localhost:8080/"
    },
    "id": "85n-aJw6LJGK",
    "outputId": "09ff21e2-b359-47b0-8eee-f119d41f0c6f"
   },
   "outputs": [
    {
     "name": "stdout",
     "output_type": "stream",
     "text": [
      "<class 'sympy.core.add.Add'>\n",
      "<function _lambdifygenerated at 0x7f95f869bc10>\n"
     ]
    }
   ],
   "source": [
    "h = cheby_function(-1,1,0.005,5,-2,2)\n",
    "print(h)"
   ]
  },
  {
   "cell_type": "code",
   "execution_count": 230,
   "metadata": {
    "id": "GJIV1a0QC7rb"
   },
   "outputs": [
    {
     "name": "stdout",
     "output_type": "stream",
     "text": [
      "<class 'sympy.core.add.Add'>\n"
     ]
    },
    {
     "name": "stderr",
     "output_type": "stream",
     "text": [
      "/var/folders/mk/ydf2207j325_0l9ph1swkbzc0000gq/T/ipykernel_16126/2710122744.py:8: RuntimeWarning: overflow encountered in power\n",
      "  denom = 1 + (math.e**(exponent))\n"
     ]
    },
    {
     "data": {
      "image/png": "[encoded data removed]",
      "text/plain": [
       "<Figure size 432x288 with 1 Axes>"
      ]
     },
     "metadata": {
      "needs_background": "light"
     },
     "output_type": "display_data"
    }
   ],
   "source": [
    "#PLOTING (to make sure things look correct)\n",
    "a = -.2\n",
    "b = .2\n",
    "c = 0.005\n",
    "left = -10\n",
    "right = 10\n",
    "deg = 10\n",
    "\n",
    "def hat(x): #need to call the function like this otherwise there is an error\n",
    "    return BasicSigmoids.square(x,a,b,c)\n",
    "  \n",
    "f = cheby_function(a,b,c,deg,left,right)\n",
    "x = np.linspace(left, right, 100)\n",
    "z = BasicSigmoids.square(x,a,b,c)\n",
    "y = f(x)*1.01\n",
    "\n",
    "plt.plot(x, z, 'r', label='Hat function')\n",
    "plt.plot(x, y, 'b', label='Approximation')\n",
    "\n",
    "plt.grid()\n",
    "\n",
    "plt.title('Chebyshev approximation')\n",
    "\n",
    "plt.legend(loc='lower right')\n",
    "\n",
    "# plt.plot(x)\n",
    "plt.xlabel('X Axis')\n",
    "plt.ylabel('Y Axis')\n",
    "\n",
    "# create the graph\n",
    "plt.savefig(\"f1.png\")\n",
    "plt.show()"
   ]
  },
  {
   "cell_type": "code",
   "execution_count": null,
   "metadata": {
    "id": "V6orrKtkU7JO"
   },
   "outputs": [],
   "source": []
  },
  {
   "cell_type": "code",
   "execution_count": null,
   "metadata": {},
   "outputs": [],
   "source": []
  },
  {
   "cell_type": "code",
   "execution_count": null,
   "metadata": {},
   "outputs": [],
   "source": []
  }
 ],
 "metadata": {
  "colab": {
   "provenance": []
  },
  "kernelspec": {
   "display_name": "cs187",
   "language": "python",
   "name": "cs187"
  },
  "language_info": {
   "codemirror_mode": {
    "name": "ipython",
    "version": 3
   },
   "file_extension": ".py",
   "mimetype": "text/x-python",
   "name": "python",
   "nbconvert_exporter": "python",
   "pygments_lexer": "ipython3",
   "version": "3.8.3"
  }
 },
 "nbformat": 4,
 "nbformat_minor": 1
}
